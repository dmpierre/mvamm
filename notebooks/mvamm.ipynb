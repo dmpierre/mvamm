{
 "cells": [
  {
   "cell_type": "code",
   "execution_count": null,
   "id": "featured-sydney",
   "metadata": {},
   "outputs": [],
   "source": [
    "from web3 import Web3\n",
    "import json\n",
    "import web3\n",
    "import os"
   ]
  },
  {
   "cell_type": "code",
   "execution_count": null,
   "id": "ideal-province",
   "metadata": {},
   "outputs": [],
   "source": []
  },
  {
   "cell_type": "code",
   "execution_count": null,
   "id": "going-accuracy",
   "metadata": {},
   "outputs": [],
   "source": [
    "def read_json(path):\n",
    "    with open(path, \"r\") as fin:\n",
    "        return json.load(fin)\n",
    "\n",
    "def get_contract_instance_from_bytecode(path_folder_build_contracts, name_contract):\n",
    "    \"\"\"\n",
    "    Instantiate a non-deployed contract\n",
    "    \"\"\"\n",
    "    path = f\"{path_folder_build_contracts}{name_contract}\"\n",
    "    json_build = read_json(f\"{path}.json\")\n",
    "    abi = json_build[\"abi\"]\n",
    "    bytecode = json_build[\"bytecode\"]\n",
    "    contract = w3.eth.contract(abi=abi, bytecode=bytecode)\n",
    "    return contract\n",
    "\n",
    "def get_contract_instance_from_address(path_folder_build_contracts, name_contract, address):\n",
    "    \"\"\"\n",
    "    Instantiate an already deployed contract.\n",
    "    \"\"\"\n",
    "    path = f\"{path_folder_build_contracts}{name_contract}\"\n",
    "    json_build = read_json(f\"{path}.json\")\n",
    "    abi = json_build[\"abi\"]\n",
    "    contract = w3.eth.contract(abi=abi, address=address)\n",
    "    return contract\n",
    "\n",
    "def get_balances(address, deployed_erc20_contract):\n",
    "    \"\"\"\n",
    "    Get ether and ERC20 balances for address\n",
    "    \"\"\"\n",
    "    balance_erc20_tokens = w3.fromWei(deployed_erc20_contract.functions.balanceOf(address).call(), unit=\"ether\")\n",
    "    balance_eth = w3.fromWei(w3.eth.get_balance(address), unit=\"ether\")\n",
    "    return balance_eth, balance_erc20_tokens"
   ]
  },
  {
   "cell_type": "code",
   "execution_count": null,
   "id": "separate-mission",
   "metadata": {},
   "outputs": [],
   "source": [
    "class MVAMM:\n",
    "    def __init__(self, dict_amm_contract, dict_erc20_contract):\n",
    "        \"\"\"\n",
    "        Interface for interacting with deployed AMM.\n",
    "        \"\"\"\n",
    "        self.amm_name = dict_amm_contract[\"name\"]\n",
    "        self.amm_address = dict_amm_contract[\"address\"]\n",
    "        self.json_folder = dict_amm_contract[\"path_json\"]\n",
    "        self.amm_contract = get_contract_instance_from_address(self.json_folder, self.amm_name, self.amm_address)\n",
    "        \n",
    "        self.erc20_name = dict_erc20_contract[\"name\"]\n",
    "        self.erc20_address = dict_erc20_contract[\"address\"]\n",
    "        self.json_folder = dict_erc20_contract[\"path_json\"]\n",
    "        self.erc20_contract = get_contract_instance_from_address(self.json_folder, self.erc20_name, self.erc20_address)\n",
    "        \n",
    "    def __approve_transaction(self, amount_t):\n",
    "        \"\"\"\n",
    "        Private method for approving transactions involving ERC20 swappable token.\n",
    "        \"\"\"\n",
    "        call_values = {\"spender\": self.amm_address, \"amount\": w3.toWei(amount_t, unit=\"ether\")}\n",
    "        tx = self.erc20_contract.functions.approve(**call_values).transact()\n",
    "        return tx\n",
    "    \n",
    "    def get_LP_info(self):\n",
    "        \"\"\"\n",
    "        Helper method to obtain AMM current liquidity state.\n",
    "        \"\"\"\n",
    "        amountE = w3.fromWei(self.amm_contract.functions.balanceE().call(), unit=\"ether\")\n",
    "        amountT = w3.fromWei(self.amm_contract.functions.balanceT().call(), unit=\"ether\")\n",
    "        # Divide by 1e36 since both E and T are denominated in wei 1e18.\n",
    "        amountL = w3.fromWei(self.amm_contract.functions.totalLiquidityTokenSupply().call(), unit=\"ether\")\n",
    "        k = self.amm_contract.functions.k().call()/1e36\n",
    "        return amountE, amountT, amountL, k\n",
    "\n",
    "    def get_balance_liquidity_tokens(self, address):\n",
    "        \"\"\"\n",
    "        Getter method to obtain amount of liquidity tokens held by address.\n",
    "        \"\"\"\n",
    "        balance_liquidity_tokens = w3.fromWei(self.amm_contract.functions.liquidityTokensHolders(address).call(), unit=\"ether\")\n",
    "        return balance_liquidity_tokens\n",
    "\n",
    "    def initiate_liquidity(self, amount_liquidity_e, amount_liquidity_t):\n",
    "        \"\"\"\n",
    "        Initiate liquidity for AMM. Provide amount E (ether) and T (erc20).\n",
    "        \"\"\"\n",
    "        tx_approval = self.__approve_transaction(amount_liquidity_t)\n",
    "        call_values = {\"tokenAmount\": w3.toWei(amount_liquidity_t, unit=\"ether\")}\n",
    "        transaction_values = {\"value\": w3.toWei(amount_liquidity_e, unit=\"ether\")}\n",
    "        tx = self.amm_contract.functions.initiateLiquidity(**call_values) \\\n",
    "                                    .transact(transaction_values)\n",
    "        return tx\n",
    "\n",
    "    def add_liquidity(self, amount_liquidity_e, amount_liquidity_t):\n",
    "        \"\"\"\n",
    "        Add liquidity to the AMM.\n",
    "        \"\"\"\n",
    "        tx_approval = self.__approve_transaction(amount_liquidity_t)\n",
    "        call_values = {\"tokenAmount\": w3.toWei(amount_liquidity_t, unit=\"ether\")}\n",
    "        transaction_values = {\"value\": w3.toWei(amount_liquidity_e, unit=\"ether\")}\n",
    "        tx = self.amm_contract.functions.addLiquidity(**call_values) \\\n",
    "                                    .transact(transaction_values)\n",
    "        return tx\n",
    "\n",
    "    def remove_liquidity(self, amount_liquidity_tokens):\n",
    "        \"\"\"\n",
    "        Remove liquidity from the AMM.\n",
    "        \"\"\"\n",
    "        call_values = {\"liquidityTokensAmount\": w3.toWei(amount_liquidity_tokens, unit=\"ether\")}\n",
    "        tx = self.amm_contract.functions.removeLiquidity(**call_values).transact()\n",
    "        return tx\n",
    "\n",
    "    def get_input_price(self, amount):\n",
    "        \"\"\"\n",
    "        Get input price (eth -> token)\n",
    "        \"\"\"\n",
    "        call_values = {\"amountE\": w3.toWei(amount, unit=\"ether\")} \n",
    "        price = self.amm_contract.functions.getInputPrice(**call_values).call()\n",
    "        return w3.fromWei(price, unit=\"ether\")\n",
    "\n",
    "    def get_output_price(self, amount):\n",
    "        \"\"\"\n",
    "        Get output price (token -> eth)\n",
    "        \"\"\"\n",
    "        call_values = {\"amountT\": w3.toWei(amount, unit=\"ether\")}\n",
    "        price = self.amm_contract.functions.getOutputPrice(**call_values).call()\n",
    "        return w3.fromWei(price, unit=\"ether\")\n",
    "    \n",
    "    def eth_to_token(self, amount_e):\n",
    "        \"\"\"\n",
    "        Swap an amount of ether for an amount of erc20 \n",
    "        \"\"\"\n",
    "        transaction_values = {\"value\": w3.toWei(amount_e, unit=\"ether\")}\n",
    "        tx = self.amm_contract.functions.ethToToken().transact(transaction_values)\n",
    "        return tx\n",
    "    \n",
    "    def token_to_eth(self, amount_t):\n",
    "        \"\"\"\n",
    "        Swap an amount of erc20 for ether\n",
    "        \"\"\"\n",
    "        tx_approval = self.__approve_transaction(amount_t)\n",
    "        call_values = {\"amountT\": w3.toWei(amount_t, unit=\"ether\")} \n",
    "        tx = self.amm_contract.functions.tokenToEth(**call_values).transact()\n",
    "        return tx"
   ]
  },
  {
   "cell_type": "code",
   "execution_count": null,
   "id": "healthy-recruitment",
   "metadata": {},
   "outputs": [],
   "source": []
  },
  {
   "cell_type": "code",
   "execution_count": null,
   "id": "velvet-korean",
   "metadata": {},
   "outputs": [],
   "source": []
  },
  {
   "cell_type": "code",
   "execution_count": null,
   "id": "scientific-intention",
   "metadata": {},
   "outputs": [],
   "source": [
    "network = \"http://127.0.0.1:7545\"\n",
    "path_to_build_folder = \"../../solidity_projects/mvamm/build/contracts/\"\n",
    "w3 = Web3(Web3.HTTPProvider(network))\n",
    "w3.eth.default_account = w3.eth.accounts[0]"
   ]
  },
  {
   "cell_type": "code",
   "execution_count": null,
   "id": "enclosed-soldier",
   "metadata": {},
   "outputs": [],
   "source": []
  },
  {
   "cell_type": "markdown",
   "id": "palestinian-belfast",
   "metadata": {},
   "source": [
    "### Deploy ERC20"
   ]
  },
  {
   "cell_type": "code",
   "execution_count": null,
   "id": "short-freight",
   "metadata": {},
   "outputs": [],
   "source": [
    "# Deploy the MyToken ERC20 with an initial supply of 100000 tokens (18 decimals)\n",
    "contract_erc20_mytoken = get_contract_instance_from_bytecode(path_folder_build_contracts, \"MyToken\")\n",
    "tx_hash = contract_erc20_mytoken.constructor(**{\"initialSupply\": w3.toWei(100000, unit=\"ether\")}).transact() \n",
    "tx_receipt = w3.eth.wait_for_transaction_receipt(tx_hash)\n",
    "address_erc20_mytoken = tx_receipt.contractAddress"
   ]
  },
  {
   "cell_type": "code",
   "execution_count": null,
   "id": "marked-neighbor",
   "metadata": {},
   "outputs": [],
   "source": []
  },
  {
   "cell_type": "markdown",
   "id": "knowing-authorization",
   "metadata": {},
   "source": [
    "### Deploy the AMM exchange contract `ETH/ERC20`"
   ]
  },
  {
   "cell_type": "code",
   "execution_count": null,
   "id": "careful-completion",
   "metadata": {},
   "outputs": [],
   "source": [
    "# When deploying the MVAMM, we need to provide the ERC20 token address\n",
    "contract_mvamm = get_contract_instance_from_bytecode(path_folder_build_contracts, 'MVAMM')\n",
    "tx_hash = contract_mvamm.constructor(**{\"_tokenAddress\": address_erc20_mytoken}).transact()\n",
    "tx_receipt = w3.eth.wait_for_transaction_receipt(tx_hash)\n",
    "address_mvamm = tx_receipt.contractAddress "
   ]
  },
  {
   "cell_type": "code",
   "execution_count": null,
   "id": "threatened-latest",
   "metadata": {},
   "outputs": [],
   "source": []
  },
  {
   "cell_type": "markdown",
   "id": "adolescent-verification",
   "metadata": {},
   "source": [
    "### Instantiate MVAMM "
   ]
  },
  {
   "cell_type": "code",
   "execution_count": null,
   "id": "affected-eleven",
   "metadata": {},
   "outputs": [],
   "source": [
    "amm_contract = {\"path_json\": path_to_build_folder, \"name\": \"MVAMM\", \"address\": address_mvamm}\n",
    "erc20_contract = {\"path_json\": path_to_build_folder, \"name\": \"MyToken\", \"address\": address_erc20_mytoken}\n",
    "mvamm = MVAMM(amm_contract, erc20_contract)"
   ]
  },
  {
   "cell_type": "code",
   "execution_count": null,
   "id": "comparative-president",
   "metadata": {},
   "outputs": [],
   "source": []
  },
  {
   "cell_type": "code",
   "execution_count": null,
   "id": "useful-condition",
   "metadata": {},
   "outputs": [],
   "source": []
  },
  {
   "cell_type": "markdown",
   "id": "collective-filling",
   "metadata": {},
   "source": [
    "### Initiate liquidity"
   ]
  },
  {
   "cell_type": "code",
   "execution_count": null,
   "id": "harmful-proof",
   "metadata": {},
   "outputs": [],
   "source": [
    "mvamm.get_LP_info()"
   ]
  },
  {
   "cell_type": "code",
   "execution_count": null,
   "id": "artificial-pacific",
   "metadata": {
    "scrolled": true
   },
   "outputs": [],
   "source": [
    "mvamm.initiate_liquidity(10, 150)"
   ]
  },
  {
   "cell_type": "code",
   "execution_count": null,
   "id": "written-pittsburgh",
   "metadata": {},
   "outputs": [],
   "source": [
    "mvamm.get_LP_info()"
   ]
  },
  {
   "cell_type": "code",
   "execution_count": null,
   "id": "opponent-cradle",
   "metadata": {},
   "outputs": [],
   "source": []
  },
  {
   "cell_type": "markdown",
   "id": "inclusive-processor",
   "metadata": {},
   "source": [
    "### Add liquidity"
   ]
  },
  {
   "cell_type": "code",
   "execution_count": null,
   "id": "capital-input",
   "metadata": {},
   "outputs": [],
   "source": [
    "mvamm.add_liquidity(10, 50)"
   ]
  },
  {
   "cell_type": "code",
   "execution_count": null,
   "id": "union-plaza",
   "metadata": {},
   "outputs": [],
   "source": [
    "mvamm.get_LP_info()"
   ]
  },
  {
   "cell_type": "code",
   "execution_count": null,
   "id": "sought-column",
   "metadata": {},
   "outputs": [],
   "source": [
    "mvamm.get_balance_liquidity_tokens(w3.eth.default_account)"
   ]
  },
  {
   "cell_type": "code",
   "execution_count": null,
   "id": "sharp-party",
   "metadata": {},
   "outputs": [],
   "source": []
  },
  {
   "cell_type": "markdown",
   "id": "excited-player",
   "metadata": {},
   "source": [
    "### Remove liquidity"
   ]
  },
  {
   "cell_type": "code",
   "execution_count": null,
   "id": "dense-corner",
   "metadata": {},
   "outputs": [],
   "source": [
    "mvamm.remove_liquidity(10)"
   ]
  },
  {
   "cell_type": "code",
   "execution_count": null,
   "id": "spanish-commercial",
   "metadata": {},
   "outputs": [],
   "source": [
    "mvamm.get_LP_info()"
   ]
  },
  {
   "cell_type": "code",
   "execution_count": null,
   "id": "equipped-reservation",
   "metadata": {},
   "outputs": [],
   "source": [
    "mvamm.get_balance_liquidity_tokens(w3.eth.default_account)"
   ]
  },
  {
   "cell_type": "code",
   "execution_count": null,
   "id": "polish-madonna",
   "metadata": {},
   "outputs": [],
   "source": []
  },
  {
   "cell_type": "code",
   "execution_count": null,
   "id": "ordered-power",
   "metadata": {},
   "outputs": [],
   "source": []
  },
  {
   "cell_type": "markdown",
   "id": "compatible-excuse",
   "metadata": {},
   "source": [
    "### Get input and output prices"
   ]
  },
  {
   "cell_type": "code",
   "execution_count": null,
   "id": "handy-poison",
   "metadata": {},
   "outputs": [],
   "source": [
    "# check duality, see theorem 10. \n",
    "input_price_to_test = 1\n",
    "input_price = float(mvamm.get_input_price(input_price_to_test))\n",
    "output_price = float(mvamm.get_output_price(input_price))\n",
    "\n",
    "input_price_to_test - 0.1 < output_price < input_price_to_test + 0.1"
   ]
  },
  {
   "cell_type": "code",
   "execution_count": null,
   "id": "embedded-taxation",
   "metadata": {},
   "outputs": [],
   "source": []
  },
  {
   "cell_type": "code",
   "execution_count": null,
   "id": "political-review",
   "metadata": {},
   "outputs": [],
   "source": []
  },
  {
   "cell_type": "markdown",
   "id": "arranged-wedding",
   "metadata": {},
   "source": [
    "### Swapping eth to tokens & tokens to eth\n"
   ]
  },
  {
   "cell_type": "code",
   "execution_count": null,
   "id": "nervous-queens",
   "metadata": {},
   "outputs": [],
   "source": [
    "mvamm.get_LP_info(), get_balances(w3.eth.default_account, deployed_contract_erc20_mytoken)"
   ]
  },
  {
   "cell_type": "code",
   "execution_count": null,
   "id": "defensive-denver",
   "metadata": {},
   "outputs": [],
   "source": [
    "mvamm.get_input_price(20)"
   ]
  },
  {
   "cell_type": "code",
   "execution_count": null,
   "id": "automotive-training",
   "metadata": {},
   "outputs": [],
   "source": [
    "mvamm.eth_to_token(10)"
   ]
  },
  {
   "cell_type": "code",
   "execution_count": null,
   "id": "detailed-excuse",
   "metadata": {},
   "outputs": [],
   "source": [
    "mvamm.get_LP_info(), get_balances(w3.eth.default_account, deployed_contract_erc20_mytoken)"
   ]
  },
  {
   "cell_type": "code",
   "execution_count": null,
   "id": "verbal-cycling",
   "metadata": {},
   "outputs": [],
   "source": []
  },
  {
   "cell_type": "code",
   "execution_count": null,
   "id": "powered-visitor",
   "metadata": {},
   "outputs": [],
   "source": [
    "mvamm.get_LP_info(), get_balances(w3.eth.default_account, deployed_contract_erc20_mytoken)"
   ]
  },
  {
   "cell_type": "code",
   "execution_count": null,
   "id": "analyzed-grade",
   "metadata": {},
   "outputs": [],
   "source": [
    "mvamm.get_output_price(2)"
   ]
  },
  {
   "cell_type": "code",
   "execution_count": null,
   "id": "dynamic-resort",
   "metadata": {},
   "outputs": [],
   "source": [
    "mvamm.token_to_eth(2)"
   ]
  },
  {
   "cell_type": "code",
   "execution_count": null,
   "id": "chemical-hammer",
   "metadata": {},
   "outputs": [],
   "source": [
    "mvamm.get_LP_info(), get_balances(w3.eth.default_account, deployed_contract_erc20_mytoken)"
   ]
  },
  {
   "cell_type": "code",
   "execution_count": null,
   "id": "essential-marking",
   "metadata": {},
   "outputs": [],
   "source": []
  }
 ],
 "metadata": {
  "kernelspec": {
   "display_name": "web3explore",
   "language": "python",
   "name": "web3explore"
  },
  "language_info": {
   "codemirror_mode": {
    "name": "ipython",
    "version": 3
   },
   "file_extension": ".py",
   "mimetype": "text/x-python",
   "name": "python",
   "nbconvert_exporter": "python",
   "pygments_lexer": "ipython3",
   "version": "3.10.0"
  }
 },
 "nbformat": 4,
 "nbformat_minor": 5
}
